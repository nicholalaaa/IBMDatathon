{
 "cells": [
  {
   "cell_type": "markdown",
   "id": "69c5f9ee",
   "metadata": {},
   "source": [
    "# Predicting Wildfire Magnitude\n",
    "\n",
    "Aim: We want to predict the magnitude of forest fires from factors such as location, physical conditions up to and during and cause of fire etc using a regression neural network.\n",
    "\n",
    "Purpose: With this model it will be easier for affected parties (e.g. insurance companies, councils and families) to deal with its aftermath.\n",
    "\n",
    "Extension: We could try to estimate potential economic loss using the magnitude prediction."
   ]
  },
  {
   "cell_type": "code",
   "execution_count": 19,
   "id": "21fb0ae4",
   "metadata": {},
   "outputs": [],
   "source": [
    "import pandas as pd\n",
    "import numpy as np\n",
    "import matplotlib.pyplot as plt\n",
    "import tensorflow as tf\n",
    "\n",
    "from tensorflow import keras\n",
    "from tensorflow.keras import layers\n",
    "from tensorflow.keras import Model\n",
    "from tensorflow.keras import Sequential\n",
    "from tensorflow.keras.optimizers import Adam\n",
    "from sklearn.preprocessing import StandardScaler\n",
    "from tensorflow.keras.layers import Dense, Dropout\n",
    "from tensorflow.keras.losses import MeanSquaredLogarithmicError"
   ]
  },
  {
   "cell_type": "code",
   "execution_count": 30,
   "id": "a792cb20",
   "metadata": {},
   "outputs": [],
   "source": [
    "# import data\n",
    "df = pd.read_csv(\"./FW_Veg_Rem_Combined.csv\")\n",
    "\n",
    "# clean data - remove unwanted columns\n",
    "\n",
    "columns_to_keep = [\"latitude\", \"longitude\", \"stat_cause_descr\", \"Vegetation\", \"Temp_pre_7\", \"Temp_cont\",\n",
    "                   \"Wind_pre_7\", \"Wind_cont\", \"Hum_pre_7\", \"Hum_cont\", \"Prec_pre_7\", \"Prec_cont\", \"fire_mag\"]\n",
    "\n",
    "df_clean = df[columns_to_keep]\n",
    "\n",
    "# randomise which datapoints are in the train and which is in the test\n",
    "\n",
    "shuffled_indices = np.random.permutation(df_clean.index)\n",
    "df_shuffled = df_clean.iloc[shuffled_indices]\n",
    "cat_columns = df_shuffled.select_dtypes(include=[\"object\"]).columns\n",
    "\n",
    "train_perc = 0.8\n",
    "\n",
    "train_data = df_shuffled[:int(train_perc * len(df_shuffled))] # last n is train data\n",
    "test_data = df_shuffled[int(train_perc * len(df_shuffled)):] # first N - n is test data\n",
    "\n",
    "# one-hot-encode \"stat_cause_descr\" - categorical data\n",
    "train_encoded = pd.get_dummies(train_data, columns=cat_columns)\n",
    "test_encoded = pd.get_dummies(test_data, columns=cat_columns)\n",
    "\n",
    "x_train = train_encoded.drop(\"fire_mag\", axis=1, inplace=False)\n",
    "x_test = test_encoded.drop(\"fire_mag\", axis=1, inplace=False)\n",
    "\n",
    "y_train = train_encoded[\"fire_mag\"]\n",
    "y_test = test_encoded[\"fire_mag\"]"
   ]
  },
  {
   "cell_type": "code",
   "execution_count": null,
   "id": "f0c29e78",
   "metadata": {},
   "outputs": [],
   "source": [
    "# scale train and test datasets for faster convergence\n",
    "def scale_datasets(x_train, x_test):\n",
    "\n",
    "    \"\"\"\n",
    "    Standard Scale test and train data\n",
    "    Z - Score normalization\n",
    "    \"\"\"\n",
    "    standard_scaler = StandardScaler()\n",
    "    x_train_scaled = pd.DataFrame(standard_scaler.fit_transform(x_train),columns=x_train.columns)\n",
    "    \n",
    "    x_test_scaled = pd.DataFrame(standard_scaler.transform(x_test), columns = x_test.columns)\n",
    "    return x_train_scaled, x_test_scaled()\n",
    "\n",
    "x_train_final, x_test_final = scale_datasets(x_train, x_test)"
   ]
  },
  {
   "cell_type": "code",
   "execution_count": null,
   "id": "ffafdfc2",
   "metadata": {},
   "outputs": [],
   "source": [
    "# may have to experiment with parameters\n",
    "hidden_units1 = 2/3 * x_train_final.shape[0]\n",
    "hidden_units2 = 2/3 * x_train_final.shape[0]\n",
    "hidden_units3 = 2/3 * x_train_final.shape[0]\n",
    "learning_rate = 0.01\n",
    "\n",
    "# create model using the Sequential in tensorflow\n",
    "def build_model_using_sequential():\n",
    "    model = Sequential([Dense(hidden_units1, kernel_initializer='normal', activation='softplus'),Dropout(0.8),\n",
    "                        Dense(hidden_units2, kernel_initializer='normal', activation='softplus'),Dropout(0.8),\n",
    "                        Dense(hidden_units3, kernel_initializer='normal', activation='softplus'),\n",
    "                        Dense(1, kernel_initializer='normal', activation='linear')])\n",
    "    return model\n",
    "\n",
    "model = build_model_using_sequential()"
   ]
  },
  {
   "cell_type": "code",
   "execution_count": null,
   "id": "ca629c9b",
   "metadata": {},
   "outputs": [],
   "source": [
    "# loss function\n",
    "msle = MeanSquaredLogarithmicError()\n",
    "model.compile(loss=msle, optimizer=Adam(learning_rate=learning_rate), metrics=[msle])\n",
    "\n",
    "# train the model\n",
    "history = model.fit(x_train_final.values, y_train.values, epochs=25, batch_size=64,validation_split=0.2)"
   ]
  },
  {
   "cell_type": "code",
   "execution_count": null,
   "id": "502cbb52",
   "metadata": {},
   "outputs": [],
   "source": [
    "def plot_history(history, key):\n",
    "    plt.plot(history.history[key])\n",
    "    plt.plot(history.history['val_'+key])\n",
    "    plt.xlabel(\"Epochs\")\n",
    "    plt.ylabel(key)\n",
    "    plt.legend([key, 'val_'+key])\n",
    "    plt.show()\n",
    "# Plot the history\n",
    "plot_history(history, 'mean_squared_logarithmic_error')"
   ]
  },
  {
   "cell_type": "code",
   "execution_count": null,
   "id": "901cee83",
   "metadata": {},
   "outputs": [],
   "source": [
    "# predict data\n",
    "pred_values = model.predict(x_test_final)"
   ]
  }
 ],
 "metadata": {
  "kernelspec": {
   "display_name": "Python 3 (ipykernel)",
   "language": "python",
   "name": "python3"
  },
  "language_info": {
   "codemirror_mode": {
    "name": "ipython",
    "version": 3
   },
   "file_extension": ".py",
   "mimetype": "text/x-python",
   "name": "python",
   "nbconvert_exporter": "python",
   "pygments_lexer": "ipython3",
   "version": "3.10.6"
  }
 },
 "nbformat": 4,
 "nbformat_minor": 5
}
