{
 "cells": [
  {
   "cell_type": "code",
   "execution_count": null,
   "id": "4ccec22a-1130-4ef7-ad42-ea32c856dfe1",
   "metadata": {
    "editable": true,
    "slideshow": {
     "slide_type": ""
    },
    "tags": []
   },
   "outputs": [],
   "source": [
    "import requests\n",
    "import pandas as pd\n",
    "import numpy as np\n",
    "\n",
    "def get_param_column(url, param_number):\n",
    "    # input:\n",
    "    #    url: local variable, stores api url\n",
    "    #    param_number: the index of the parameter\n",
    "    # output:\n",
    "    #    df_base: dataframe with POWER metrics\n",
    "    response = requests.get(url)\n",
    "    response = response.text\n",
    "    split_response = response.split('\\n')[9:]\n",
    "    columns = split_response[0].split(',')\n",
    "    data=','.join(split_response[1:])\n",
    "    data_list = data.split(',')\n",
    "    data_list = np.array(data_list[:len(data_list)-1], dtype=float)\n",
    "    data_array = np.reshape(data_list, (int(len(data_list)/6), 6))\n",
    "    df_base = pd.DataFrame(data=data_array, columns=columns)\n",
    "    if param_number > 0:\n",
    "        df_base.drop(columns=['LAT', 'LON', 'YEAR', 'MO', 'DY'], inplace=True)\n",
    "        # to avoid duplicate columns when we run the get_param_column function in a loop\n",
    "    return df_base\n",
    "\n",
    "parameters = ['ALLSKY_SFC_SW_DWN','ALLSKY_SFC_LW_DWN','ALLSKY_SFC_UV_INDEX','WS2M','T2M','TS','T2M_MAX','T2M_MIN','QV2M','PRECTOTCORR','PS','WS10M','WS10M_MAX','WS10M_MIN','WD10M','WS50M','WS50M_MAX','WS50M_MIN','WD50M']\n",
    "years = [i for i in range(2000, 2023)]\n",
    "\n",
    "for year in years:\n",
    "    for i, param in enumerate(parameters):\n",
    "        API_URL = f'https://power.larc.nasa.gov/api/temporal/daily/regional?latitude-min=32&latitude-max=42&longitude-min=-120&longitude-max=-110&parameters={param}&community=SB&start={year}0101&end={year}1231&format=CSV'\n",
    "        if i == 0:\n",
    "            df = df = get_param_column(API_URL, 0)\n",
    "        else:\n",
    "            df = pd.concat([df, get_param_column(API_URL, i)], axis=1)\n",
    "\n",
    "    df.to_csv(f'California_POWER_{year}.csv')"
   ]
  }
 ],
 "metadata": {
  "kernelspec": {
   "display_name": "Python 3 (ipykernel)",
   "language": "python",
   "name": "python3"
  },
  "language_info": {
   "codemirror_mode": {
    "name": "ipython",
    "version": 3
   },
   "file_extension": ".py",
   "mimetype": "text/x-python",
   "name": "python",
   "nbconvert_exporter": "python",
   "pygments_lexer": "ipython3",
   "version": "3.10.6"
  }
 },
 "nbformat": 4,
 "nbformat_minor": 5
}
