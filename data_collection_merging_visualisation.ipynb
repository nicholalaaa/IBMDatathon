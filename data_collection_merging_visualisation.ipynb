{
 "cells": [
  {
   "cell_type": "markdown",
   "id": "ae1994fa-ed05-4424-99c1-a045720bc74f",
   "metadata": {},
   "source": [
    "# 1. Data Collection and Data Merging\n",
    "### (Wildfire data from __[NASA FIRMS](https://firms.modaps.eosdis.nasa.gov/download/)__ and __[Calfire](https://www.fire.ca.gov/incidents#incidentdisclaimer)__, weather data from __[POWER](https://power.larc.nasa.gov/data-access-viewer/)__)\n",
    "#### Note: all codes here are actually run in a local computer in order not to break the server."
   ]
  },
  {
   "cell_type": "markdown",
   "id": "90e576cb-3e37-4da9-bea0-8e130901a0ee",
   "metadata": {},
   "source": [
    "## 1.1 Merging Data"
   ]
  },
  {
   "cell_type": "markdown",
   "id": "811a3ad7-612d-490e-9bb5-e764a0a1eeb3",
   "metadata": {},
   "source": [
    "The raw data from NASA FIRMS are seperated in individual csv files containing data yearly. So, all csv files need to be combine into one complete csv first. Then, we filtered out the fire data for california only according to the following code: (output as `'modis_US.csv'`)"
   ]
  },
  {
   "cell_type": "code",
   "execution_count": null,
   "id": "461b20a0-73e4-42fd-accf-87a7585717b5",
   "metadata": {},
   "outputs": [],
   "source": [
    "import pandas as pd\n",
    "import os\n",
    "\n",
    "\n",
    "# list of all files in the folder (There are too many original csv files, and in order not to break the server,\n",
    "# they are not uploaded here and in fact this combination is run locally. Also, likewise for the 'weather.csv' below).\n",
    "all_files = os.listdir()\n",
    "\n",
    "# Filter out non-CSV files\n",
    "csv_files = [f for f in all_files if f.endswith('.csv')]\n",
    "\n",
    "# Create a list to hold the dataframes\n",
    "df_list = []\n",
    "\n",
    "for csv in csv_files:\n",
    "    try:\n",
    "        # Try reading the file using default UTF-8 encoding\n",
    "        df = pd.read_csv(csv)\n",
    "        df = df.loc[\n",
    "            (df['latitude'] >= 32) & (df['latitude'] <= 42) & (df['longitude'] >= -124) & (df['longitude'] <= -114) & (df['type'] == 0)\n",
    "        ]\n",
    "        df_list.append(df)\n",
    "    except UnicodeDecodeError:\n",
    "        try:\n",
    "            # If UTF-8 fails, try reading the file using UTF-16 encoding with tab separator\n",
    "            df = pd.read_csv(csv, sep='\\t', encoding='utf-16')\n",
    "            df_list.append(df)\n",
    "        except Exception as e:\n",
    "            print(f\"Could not read file {csv} because of error: {e}\")\n",
    "    except Exception as e:\n",
    "        print(f\"Could not read file {csv} because of error: {e}\")\n",
    "\n",
    "# Concatenate all data into one DataFrame\n",
    "big_df = pd.concat(df_list, ignore_index=True)\n",
    "fire_df_1 = big_df.loc[big_df['longitude'] <= -120]\n",
    "fire_df_2 = big_df.loc[(big_df['longitude']>=-120) & (big_df['longitude'] < -1.25 * big_df['latitude'] - 71.25)]\n",
    "big_df = pd.concat([fire_df_1, fire_df_2], ignore_index=True)\n",
    "\n",
    "# Save the final result to a new CSV file\n",
    "big_df.to_csv('nasa_usa_fire_data/modis_US.csv', index=False)"
   ]
  },
  {
   "cell_type": "markdown",
   "id": "e6b22019-dbdc-4f73-8a3e-43aa5b8fa882",
   "metadata": {},
   "source": [
    "|     Attribute |Short Description| Long Description                                                                                                                                                                                                                                                                                                                                                                                                                                                                                                                                                                                              |\n",
    "|--------------|-----------|---------------------------------------------------------------------------------------------------------------------------------------------------------------------------------------------------------------------------------------------------------------------------------------------------------------------------------------------------------------------------------------------------------------------------------------------------------------------------------------------------------------------------------------------------------------------------------------------------------------|\n",
    "|      Latitude | Latitude                                                                                                    | Center of 1 km fire pixel, but not necessarily the actual location of the fire as one or more fires can be detected within the 1 km pixel.                                                                                                                                                                                                                                                                                                                                                                                                                                                                    |\n",
    "|     Longitude | Longitude                                                                                                   | Center of 1 km fire pixel, but not necessarily the actual location of the fire as one or more fires can be detected within the 1 km pixel.                                                                                                                                                                                                                                                                                                                                                                                                                                                                    |\n",
    "|    Brightness | Brightness temperature 21 (Kelvin)| Channel 21/22 brightness temperature of the fire pixel measured in Kelvin.                                                                                                                                                                                                                                                                                                                                                                                                                                                                                                                                    |\n",
    "|          Scan | Along Scan pixel size                                                                                       | The algorithm produces 1 km fire pixels, but MODIS pixels get bigger toward the edge of scan. Scan and track reflect actual pixel size.                                                                                                                                                                                                                                                                                                                                                                                                                                                                       |\n",
    "|        Track\t |Along Track pixel size| \tThe algorithm produces 1 km fire pixels, but MODIS pixels get bigger toward the edge of scan. Scan and track reflect actual pixel size.                                                                                                                                                                                                                                                                                                                                                                                                                                                                      |\n",
    "|     Acq_Date\t |Acquisition Date| \tData of MODIS acquisition.                                                                                                                                                                                                                                                                                                                                                                                                                                                                                                                                                                                   |\n",
    "|     Acq_Time\t |Acquisition Time| \tTime of acquisition/overpass of the satellite (in UTC).                                                                                                                                                                                                                                                                                                                                                                                                                                                                                                                                                      |\n",
    "|    Satellite\t |Satellite| \tA = Aqua and T = Terra.                                                                                                                                                                                                                                                                                                                                                                                                                                                                                                                                                                                      |\n",
    "|    Confidence |\tConfidence (0-100%)\t| This value is based on a collection of intermediate algorithm quantities used in the detection process. It is intended to help users gauge the quality of individual hotspot/fire pixels. Confidence estimates range between 0 and 100% and are assigned one of the three fire classes (low-confidence fire, nominal-confidence fire, or high-confidence fire).                                                                                                                                                                                                                                               |\n",
    "|       Version |\tVersion (Collection and source)\t| Version identifies the collection (e.g., MODIS Collection 6.1) and source of data processing (Ultra Real-Time (URT suffix added to collection), Real-Time (RT suffix), Near Real-Time (NRT suffix) or Standard Processing (collection only). For example:<br>\"6.1URT\" - Collection 6.1 Ultra Real-Time processing.<br>\"6.1RT\" -  Collection 6.1 Real-Time processing.<br>\"6.1NRT\" - Collection 61 Near Real-Time processing.<br>\"6.1\" - Collection 61 Standard processing.<br>Find out more on collections and on the differences between FIRMS data sourced from LANCE FIRMS and the University of Maryland. |\n",
    "|   Bright_T31\t |Brightness temperature 31 (Kelvin)\t| Channel 31 brightness temperature of the fire pixel measured in Kelvin.                                                                                                                                                                                                                                                                                                                                                                                                                                                                                                                                       |\n",
    "|          FRP\t |Fire Radiative Power (MW - megawatts)\t| Depicts the pixel-integrated fire radiative power in MW (megawatts).                                                                                                                                                                                                                                                                                                                                                                                                                                                                                                                                          |\n",
    "|        Type*\t |Inferred hot spot type\t| 0 = presumed vegetation fire<br>1 = active volcano<br>2 = other static land source<br>3 = offshore                                                                                                                                                                                                                                                                                                                                                                                                                                                                                                            |\n",
    "|     DayNight\t |Day or Night\t|D= Daytime fire, N= Nighttime fire|"
   ]
  },
  {
   "cell_type": "code",
   "execution_count": 10,
   "id": "fb56a47e-37a6-4377-8da4-8d1c6aa5f1c9",
   "metadata": {},
   "outputs": [
    {
     "name": "stdout",
     "output_type": "stream",
     "text": [
      "<class 'pandas.core.frame.DataFrame'>\n",
      "RangeIndex: 320144 entries, 0 to 320143\n",
      "Data columns (total 15 columns):\n",
      " #   Column      Non-Null Count   Dtype         \n",
      "---  ------      --------------   -----         \n",
      " 0   latitude    320144 non-null  float64       \n",
      " 1   longitude   320144 non-null  float64       \n",
      " 2   brightness  320144 non-null  float64       \n",
      " 3   scan        320144 non-null  float64       \n",
      " 4   track       320144 non-null  float64       \n",
      " 5   acq_date    320144 non-null  datetime64[ns]\n",
      " 6   acq_time    320144 non-null  int64         \n",
      " 7   satellite   320144 non-null  object        \n",
      " 8   instrument  320144 non-null  object        \n",
      " 9   confidence  320144 non-null  int64         \n",
      " 10  version     320144 non-null  float64       \n",
      " 11  bright_t31  320144 non-null  float64       \n",
      " 12  frp         320144 non-null  float64       \n",
      " 13  daynight    320144 non-null  object        \n",
      " 14  type        320144 non-null  int64         \n",
      "dtypes: datetime64[ns](1), float64(8), int64(3), object(3)\n",
      "memory usage: 36.6+ MB\n"
     ]
    }
   ],
   "source": [
    "big_df.info()"
   ]
  },
  {
   "cell_type": "markdown",
   "id": "56ca18ea-7498-439f-9151-fa74ddb293c5",
   "metadata": {},
   "source": [
    "Likewise, we used the same code merging individual weather data (output as `'weather.csv'` in `California_POWER` folder)"
   ]
  },
  {
   "cell_type": "markdown",
   "id": "72a5f2c4-2edd-48ce-b32f-37673212d8dd",
   "metadata": {},
   "source": [
    "## 1.2 Data Merging"
   ]
  },
  {
   "cell_type": "markdown",
   "id": "14866d4a-1f05-4f20-99ef-b5c685f31391",
   "metadata": {},
   "source": [
    "Once we get the `'modis_US.csv'` and `'weather.csv'`, along with another complete data set from __CalFire__, we can start merging data three of them into one table (output as `'weather&fire_2000-2022.csv'` in `fireclassification` folder)."
   ]
  },
  {
   "cell_type": "code",
   "execution_count": null,
   "id": "fd4a5937-39ee-487c-ab80-37bcf30a2b7f",
   "metadata": {},
   "outputs": [],
   "source": [
    "import numpy as np\n",
    "\n",
    "\n",
    "# read the csv files\n",
    "fire_df = pd.read_csv('nasa_usa_fire_data/modis_US.csv')\n",
    "weather_df = pd.read_csv('California_POWER/weather.csv')\n",
    "calfire_df = pd.read_csv('nasa_usa_fire_data/calfire.csv')\n",
    "\n",
    "# manipulate the data types and round the longitude and latitude to the nearest .25 and .75 in order to map with the weather data\n",
    "# (all longitude and latitude in weather data are evenly spread and in the form of xx.25 and xx.75)\n",
    "fire_df['acq_date'] = pd.to_datetime(fire_df['acq_date'])\n",
    "fire_df['latitude_round_2'] = ((fire_df['latitude']+0.25) * 2).round(0)/2 - 0.25\n",
    "fire_df['longitude_round_2'] = ((fire_df['longitude']+0.25) * 2).round(0)/2 - 0.25\n",
    "fire_df = fire_df[['longitude_round_2', 'latitude_round_2', 'acq_date']]\n",
    "fire_df.drop_duplicates(inplace=True)\n",
    "\n",
    "# manipulate the data types and column names for merging\n",
    "weather_df = weather_df.rename(columns={'YEAR': 'year', 'MO': 'month', 'DY': 'day'})\n",
    "weather_df['date'] = pd.to_datetime(weather_df[['year', 'month', 'day']])\n",
    "fire_df = fire_df.rename(columns={'latitude_round_2': 'LAT', 'longitude_round_2': 'LON', 'acq_date': 'date'})\n",
    "df = pd.merge(weather_df, fire_df, on=['LAT', 'LON', 'date'], how='left', indicator='Fire')\n",
    "# if there is data of wildfire then yes, otherwise no\n",
    "df['Fire'] = np.where(df.Fire == 'both', True, False)\n",
    "df.drop_duplicates(inplace=True)\n",
    "\n",
    "# round the longitude and latitude in calfire dataset in the same format, and rename columns for merging as well\n",
    "calfire_df['latitude_round_2'] = ((calfire_df['incident_latitude']+0.25) * 2).round(0)/2 - 0.25\n",
    "calfire_df['longitude_round_2'] = ((calfire_df['incident_longitude']+0.25) * 2).round(0)/2 - 0.25\n",
    "calfire_df = calfire_df.rename(columns={'latitude_round_2': 'LAT', 'longitude_round_2': 'LON', 'incident_dateonly_created': 'date'})\n",
    "calfire_df['date'] = pd.to_datetime(calfire_df['date'])\n",
    "df = pd.merge(df, calfire_df, on=['LAT', 'LON', 'date'], how='left', indicator='indicator')\n",
    "# if some are missing in the NASA FIRMS data but in calfire data, here returns true as well\n",
    "df.loc[df['indicator'] == 'both', 'Fire'] = True\n",
    "df.drop(columns=['indicator'], inplace=True)\n",
    "df.to_csv('weather&fire_2000-2022.csv', index=False)"
   ]
  },
  {
   "cell_type": "markdown",
   "id": "bafce724-7998-4716-9d8a-e684e281fbea",
   "metadata": {},
   "source": [
    "## 2. Visualisation"
   ]
  },
  {
   "cell_type": "markdown",
   "id": "7db7843a-df24-4c63-ab45-953f05b4a064",
   "metadata": {},
   "source": [
    "we visualise the data by plotting a hotspot graph using seaborn and also several pie charts of cause of wildfire"
   ]
  },
  {
   "cell_type": "markdown",
   "id": "979808f6-f8a6-4174-9874-0fc9f65e7c8f",
   "metadata": {},
   "source": [
    "### 2.1 Heatmap using seaborn (output as `'california_hotspot.png'`"
   ]
  },
  {
   "cell_type": "code",
   "execution_count": null,
   "id": "98e12334-4639-47fa-afad-8e6ce82baeb6",
   "metadata": {},
   "outputs": [],
   "source": [
    "import matplotlib.pyplot as plt\n",
    "import matplotlib.style as style\n",
    "\n",
    "import seaborn as sns\n",
    "\n",
    "\n",
    "# read the csv files\n",
    "fire_df = pd.read_csv('nasa_usa_fire_data/modis_US.csv')\n",
    "\n",
    "# plot the heatmap accroding to longitude and latitude \n",
    "fire_df = fire_df[['longitude','latitude']]\n",
    "fire_df_3 = fire_df_3.round(1)\n",
    "a = fire_df_3.pivot_table(index='latitude', \n",
    "                   columns='longitude', \n",
    "                   values='Count', \n",
    "                   aggfunc='sum')\n",
    "ax = sns.heatmap(a.iloc[::-1])\n",
    "plt.scatter(fire_df_3.longitude, fire_df_3.latitude,s=fire_df_3.Count)\n",
    "plt.grid()\n",
    "plt.show()"
   ]
  },
  {
   "cell_type": "markdown",
   "id": "2f3c33e0-e397-4c1c-8b7e-6119bb1599dd",
   "metadata": {},
   "source": [
    "### 2.2 Pie charts (output as `'fire_classification1.png'` and `'fire_classification2.png'`)"
   ]
  },
  {
   "cell_type": "code",
   "execution_count": null,
   "id": "76cd383e-63c9-4968-bcae-fd980d84dff9",
   "metadata": {},
   "outputs": [],
   "source": [
    "# use wildfire dataset from kaggle webisite\n",
    "df = pd.read_csv('FW_Veg_Rem_Combined.csv')\n",
    "\n",
    "# california data\n",
    "df = df.loc[df['state'] == 'CA']\n",
    "df['Count'] = 1\n",
    "\n",
    "# manipulate the dataframe\n",
    "a = df.groupby(['fire_size_class']).Count.count().reset_index()\n",
    "a = a.set_index('fire_size_class')\n",
    "a.rename(columns={\"Fire Classification\": \"\"}, inplace=True)\n",
    "\n",
    "# graph plotting \n",
    "plt.figure(0)\n",
    "a.plot.pie(y='', figsize=(5, 5), autopct='%.1f%%')\n",
    "plt.title(f'Fire Classification')\n",
    "plt.tight_layout()\n",
    "plt.savefig('fire_classification1.png')"
   ]
  },
  {
   "cell_type": "code",
   "execution_count": null,
   "id": "a75241e5-0819-4f01-baf7-6538e89d8372",
   "metadata": {},
   "outputs": [],
   "source": [
    "# get sub dataframes of calss B, C, D, E, F and G\n",
    "df_b = df.loc[df['fire_size_class'] =='B']\n",
    "b = df_b.groupby(['stat_cause_descr']).Count.count().reset_index()\n",
    "df_c = df.loc[df['fire_size_class'] =='C']\n",
    "c = df_c.groupby(['stat_cause_descr']).Count.count().reset_index()\n",
    "df_d = df.loc[df['fire_size_class'] =='D']\n",
    "d = df_d.groupby(['stat_cause_descr']).Count.count().reset_index()\n",
    "df_e = df.loc[df['fire_size_class'] =='E']\n",
    "e = df_e.groupby(['stat_cause_descr']).Count.count().reset_index()\n",
    "df_f = df.loc[df['fire_size_class'] =='F']\n",
    "f = df_f.groupby(['stat_cause_descr']).Count.count().reset_index()\n",
    "df_g = df.loc[df['fire_size_class'] =='G']\n",
    "g = df_g.groupby(['stat_cause_descr']).Count.count().reset_index()\n",
    "b.rename(columns={\"Count\": \"B\"}, inplace=True)\n",
    "b = b.set_index('stat_cause_descr')\n",
    "c.rename(columns={\"Count\": \"C\"}, inplace=True)\n",
    "c = c.set_index('stat_cause_descr')\n",
    "d.rename(columns={\"Count\": \"D\"}, inplace=True)\n",
    "d = d.set_index('stat_cause_descr')\n",
    "e.rename(columns={\"Count\": \"E\"}, inplace=True)\n",
    "e = e.set_index('stat_cause_descr')\n",
    "f.rename(columns={\"Count\": \"F\"}, inplace=True)\n",
    "f = f.set_index('stat_cause_descr')\n",
    "g.rename(columns={\"Count\": \"G\"}, inplace=True)\n",
    "g = g.set_index('stat_cause_descr')\n",
    "\n",
    "# combine sub dataframes into one\n",
    "df_class = pd.concat([b.T,c.T,d.T,e.T,f.T,g.T])\n",
    "\n",
    "# graph plotting\n",
    "fig, axes = plt.subplots(2, 3, figsize=(15, 8))\n",
    "for i, (idx, row) in enumerate(df_class.iterrows()):\n",
    "    ax = axes[i // 3, i % 3]\n",
    "    row = row[row.gt(row.sum() * .01)]\n",
    "    ax.pie(row, labels=row.index, startangle=30, textprops={'fontsize': 8})\n",
    "    ax.set_title(f'Class: {idx}')\n",
    "plt.tight_layout()\n",
    "fig.subplots_adjust(wspace=.2)\n",
    "plt.savefig('fire_classification2.png')"
   ]
  }
 ],
 "metadata": {
  "kernelspec": {
   "display_name": "Python 3 (ipykernel)",
   "language": "python",
   "name": "python3"
  },
  "language_info": {
   "codemirror_mode": {
    "name": "ipython",
    "version": 3
   },
   "file_extension": ".py",
   "mimetype": "text/x-python",
   "name": "python",
   "nbconvert_exporter": "python",
   "pygments_lexer": "ipython3",
   "version": "3.10.6"
  }
 },
 "nbformat": 4,
 "nbformat_minor": 5
}
