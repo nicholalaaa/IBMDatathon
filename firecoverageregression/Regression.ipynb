{
 "cells": [
  {
   "cell_type": "code",
   "execution_count": null,
   "metadata": {
    "id": "39ysVaSDiM-q"
   },
   "outputs": [],
   "source": [
    "import pandas as pd\n",
    "import numpy as np\n",
    "import matplotlib.pyplot as plt\n",
    "import tensorflow as tf\n",
    "\n",
    "from tensorflow import keras\n",
    "from tensorflow.keras import layers\n",
    "from tensorflow.keras import Model\n",
    "from tensorflow.keras import Sequential\n",
    "from tensorflow.keras.optimizers import SGD\n",
    "from sklearn.preprocessing import StandardScaler\n",
    "from tensorflow.keras.layers import Dense, Dropout\n",
    "from tensorflow.keras.losses import MeanSquaredLogarithmicError"
   ]
  },
  {
   "cell_type": "code",
   "execution_count": null,
   "metadata": {
    "colab": {
     "base_uri": "https://localhost:8080/"
    },
    "executionInfo": {
     "elapsed": 2764,
     "status": "ok",
     "timestamp": 1697915407798,
     "user": {
      "displayName": "y salim",
      "userId": "07566431091418063541"
     },
     "user_tz": -60
    },
    "id": "JzK_CKbPoo4Q",
    "outputId": "50dae8cb-108b-4f17-b45b-298c9c3623fb"
   },
   "outputs": [
    {
     "name": "stdout",
     "output_type": "stream",
     "text": [
      "    Vegetation  Temp_pre_7  Temp_cont  Wind_pre_7  Wind_cont  Hum_pre_7  \\\n",
      "3            0   18.142564        0.0    3.671282        0.0  35.353846   \n",
      "9           15    6.053333        0.0    6.645333        0.0  54.337838   \n",
      "26          15    0.000000        0.0    0.000000        0.0   0.000000   \n",
      "31          15   -4.273834        0.0    6.658621        0.0  71.173116   \n",
      "35          12   18.188679        0.0    2.211429        0.0  60.328571   \n",
      "\n",
      "    Hum_cont  Prec_pre_7  Prec_cont  fire_mag  \n",
      "3        0.0         0.0        0.0       0.1  \n",
      "9        0.0         0.0        0.0       0.1  \n",
      "26       0.0         0.0        0.0       0.1  \n",
      "31       0.0         9.2        0.0       0.1  \n",
      "35       0.0         0.0        0.0       1.0  \n"
     ]
    },
    {
     "data": {
      "text/plain": [
       "Index(['Vegetation', 'Temp_pre_7', 'Temp_cont', 'Wind_pre_7', 'Wind_cont',\n",
       "       'Hum_pre_7', 'Hum_cont', 'Prec_pre_7', 'Prec_cont', 'fire_mag'],\n",
       "      dtype='object')"
      ]
     },
     "execution_count": 3,
     "metadata": {},
     "output_type": "execute_result"
    }
   ],
   "source": [
    "# import data\n",
    "df = pd.read_csv(\"./FW_Veg_Rem_Combined.csv\")\n",
    "df.drop_duplicates(inplace=True)\n",
    "df.dropna(axis=0,inplace=True)\n",
    "# clean data - remove unwanted columns\n",
    "\n",
    "columns_to_keep = [\"Vegetation\", \"Temp_pre_7\", \"Temp_cont\",\n",
    "                   \"Wind_pre_7\", \"Wind_cont\", \"Hum_pre_7\", \"Hum_cont\", \"Prec_pre_7\", \"Prec_cont\", \"fire_mag\"]\n",
    "\n",
    "df_clean = df[columns_to_keep]\n",
    "\n",
    "\n",
    "print(df_clean.head())\n",
    "\n",
    "df_clean.columns"
   ]
  },
  {
   "cell_type": "code",
   "execution_count": null,
   "metadata": {
    "colab": {
     "base_uri": "https://localhost:8080/"
    },
    "executionInfo": {
     "elapsed": 2,
     "status": "ok",
     "timestamp": 1697915889581,
     "user": {
      "displayName": "y salim",
      "userId": "07566431091418063541"
     },
     "user_tz": -60
    },
    "id": "_gnyCe8eoqzZ",
    "outputId": "9881c26a-2d2a-41c3-ac67-e602a3cbabed"
   },
   "outputs": [
    {
     "name": "stdout",
     "output_type": "stream",
     "text": [
      "    Vegetation  Temp_pre_7  Temp_cont  Wind_pre_7  Wind_cont  Hum_pre_7  \\\n",
      "3            0    0.514050   0.292605    0.223714   0.039683   0.382672   \n",
      "9           15    0.354658   0.292605    0.366145   0.039683   0.582504   \n",
      "26          15    0.274847   0.292605    0.047891   0.039683   0.010526   \n",
      "31          15    0.218499   0.292605    0.366782   0.039683   0.759717   \n",
      "35          12    0.514658   0.292605    0.153800   0.039683   0.645564   \n",
      "\n",
      "    Hum_cont  Prec_pre_7  Prec_cont  fire_mag  \n",
      "3   0.010753    0.000842   0.001776       0.1  \n",
      "9   0.010753    0.000842   0.001776       0.1  \n",
      "26  0.010753    0.000842   0.001776       0.1  \n",
      "31  0.010753    0.008586   0.001776       0.1  \n",
      "35  0.010753    0.000842   0.001776       1.0  \n"
     ]
    }
   ],
   "source": [
    "# randomise which datapoints are in the train and which is in the test\n",
    "X=df_clean.copy()\n",
    "X.drop(['fire_mag','Vegetation'],axis=1)\n",
    "from sklearn.preprocessing import MinMaxScaler\n",
    "print(X.head())\n",
    "\n",
    "columnstotransform=['Temp_pre_7', 'Temp_cont', 'Wind_pre_7', 'Wind_cont',\n",
    "       'Hum_pre_7', 'Hum_cont', 'Prec_pre_7', 'Prec_cont']\n",
    "# Applying MinMaxScaler to selected columns\n",
    "scaler = MinMaxScaler()\n",
    "X[columnstotransform] = scaler.fit_transform(X[columnstotransform])\n",
    "X['Vegetation']=df_clean['Vegetation']\n",
    "# Concatenating the scaled data with the target column\n",
    "\n",
    "y=df_clean['fire_mag']\n",
    "\n",
    "from sklearn.model_selection import train_test_split\n",
    "\n",
    "X_train, X_test, y_train, y_test = train_test_split(X, y, test_size=0.2)\n"
   ]
  },
  {
   "cell_type": "code",
   "execution_count": null,
   "metadata": {
    "id": "wnr7ymRaosKR"
   },
   "outputs": [],
   "source": [
    "# may have to experiment with parameters\n",
    "X_train = np.array(X_train)\n",
    "y_train = np.array(y_train)\n",
    "X_test = np.array(X_test)\n",
    "y_test = np.array(y_test)\n",
    "# create model using the Sequential in tensorflow\n"
   ]
  },
  {
   "cell_type": "code",
   "execution_count": null,
   "metadata": {
    "id": "WIEw8n6VotA_"
   },
   "outputs": [],
   "source": [
    "import torch\n",
    "import torch.nn as nn\n",
    "import torch.optim as optim\n",
    "from sklearn.model_selection import train_test_split\n",
    "import matplotlib.pyplot as plt\n",
    "from sklearn.metrics import confusion_matrix\n",
    "\n",
    "X_train_tensor = torch.from_numpy(X_train).float()\n",
    "y_train_tensor = torch.from_numpy(y_train).view(-1, 1).float()  # Make sure the y_train tensor has the correct dimensions\n",
    "X_test_tensor = torch.from_numpy(X_test).float()\n",
    "y_test_tensor = torch.from_numpy(y_test).view(-1, 1).float()  # Make sure the y_test tensor has the correct dimensions\n",
    "\n",
    "\n",
    "# Define the neural network model\n",
    "class NeuralNetwork(nn.Module):\n",
    "    def __init__(self, input_size):\n",
    "        super(NeuralNetwork, self).__init__()\n",
    "        self.fc1 = nn.Linear(input_size, 32)\n",
    "        self.dropout = nn.Dropout(p=0.1)  # Add dropout with a probability of 0.1\n",
    "        self.fc2=nn.Linear(32,16)\n",
    "        self.out = nn.Linear(16, 1)  # Changed to 1 output for regression\n",
    "        self.relu = nn.ReLU()\n",
    "\n",
    "    def forward(self, x):\n",
    "        x = self.relu(self.fc1(x))\n",
    "        x = self.dropout(x)  # Apply dropout to the hidden layer\n",
    "        x=self.relu(self.fc2(x))\n",
    "        x = self.out(x)  # No activation for regression\n",
    "        return x\n",
    "\n",
    "\n",
    "# Initialize the model\n",
    "input_size = X_train.shape[1]\n",
    "model = NeuralNetwork(input_size)\n",
    "\n",
    "# Define the loss and the optimizer\n",
    "criterion = nn.MSELoss()  # Binary Cross-Entropy Loss\n",
    "optimizer = optim.Adam(model.parameters(), lr=0.001)  # You can choose different optimizers and learning rates\n",
    "\n",
    "# Training loop\n",
    "epochs = 1000\n",
    "train_losses = []\n",
    "val_losses = []\n",
    "for epoch in range(epochs):\n",
    "\n",
    "    optimizer.zero_grad()  # Clear the gradients\n",
    "    outputs = model(X_train_tensor)  # Forward pass\n",
    "    loss = criterion(outputs, y_train_tensor)  # Compute the loss\n",
    "    loss.backward()  # Backward pass\n",
    "    optimizer.step()  # Update the weights\n",
    "\n",
    "    # Append the training and validation loss for each epoch\n",
    "    train_losses.append(loss.item())\n",
    "    with torch.no_grad():\n",
    "        val_outputs = model(X_test_tensor)\n",
    "        val_loss = criterion(val_outputs, y_test_tensor)\n",
    "        val_losses.append(val_loss.item())\n",
    "\n",
    "# Evaluate the model on the test set\n"
   ]
  },
  {
   "cell_type": "code",
   "execution_count": null,
   "metadata": {
    "colab": {
     "base_uri": "https://localhost:8080/",
     "height": 564
    },
    "executionInfo": {
     "elapsed": 620,
     "status": "ok",
     "timestamp": 1697916100370,
     "user": {
      "displayName": "y salim",
      "userId": "07566431091418063541"
     },
     "user_tz": -60
    },
    "id": "ammgrHV1pLaA",
    "outputId": "09fbbf71-fb93-4dfa-ec9f-5c8ee42fd07f"
   },
   "outputs": [
    {
     "data": {
      "image/png": "[encoded data removed]",
      "text/plain": [
       "<Figure size 800x600 with 1 Axes>"
      ]
     },
     "metadata": {},
     "output_type": "display_data"
    }
   ],
   "source": [
    "plt.figure(figsize=(8, 6))\n",
    "plt.plot(range(1, epochs+1), train_losses, label='Training Loss')\n",
    "plt.plot(range(1, epochs+1), val_losses, label='Validation Loss')\n",
    "plt.xlabel('Epochs')\n",
    "plt.ylabel('Loss')\n",
    "plt.legend()\n",
    "plt.title('Training and Validation Loss Over Epochs')\n",
    "plt.show()"
   ]
  },
  {
   "cell_type": "code",
   "execution_count": null,
   "metadata": {
    "colab": {
     "base_uri": "https://localhost:8080/"
    },
    "executionInfo": {
     "elapsed": 208,
     "status": "ok",
     "timestamp": 1697916103184,
     "user": {
      "displayName": "y salim",
      "userId": "07566431091418063541"
     },
     "user_tz": -60
    },
    "id": "QwCv-JvypOdb",
    "outputId": "f7495382-cc42-4324-f3c8-3b3f103f8e42"
   },
   "outputs": [
    {
     "name": "stdout",
     "output_type": "stream",
     "text": [
      "Mean Squared Error: 10.04149055480957\n"
     ]
    }
   ],
   "source": [
    "from sklearn.metrics import mean_squared_error\n",
    "with torch.no_grad():\n",
    "    test_outputs = model(X_test_tensor)\n",
    "    # No need for thresholding for regression task\n",
    "    y_test_predicted = test_outputs.numpy().flatten()\n",
    "    y_test_numpy = y_test_tensor.numpy().flatten()\n",
    "\n",
    "# Calculate the mean squared error\n",
    "mse = mean_squared_error(y_test_numpy, y_test_predicted)\n",
    "print(f\"Mean Squared Error: {mse}\")"
   ]
  }
 ],
 "metadata": {
  "colab": {
   "authorship_tag": "ABX9TyPfZXdSKVaTNOZfFKCl73iP",
   "provenance": [
    {
     "file_id": "1yxeNkgMqYATnFUi6Ir5-WOhDkvta36et",
     "timestamp": 1697916411633
    }
   ]
  },
  "kernelspec": {
   "display_name": "Python 3 (ipykernel)",
   "language": "python",
   "name": "python3"
  },
  "language_info": {
   "codemirror_mode": {
    "name": "ipython",
    "version": 3
   },
   "file_extension": ".py",
   "mimetype": "text/x-python",
   "name": "python",
   "nbconvert_exporter": "python",
   "pygments_lexer": "ipython3",
   "version": "3.10.6"
  }
 },
 "nbformat": 4,
 "nbformat_minor": 4
}
