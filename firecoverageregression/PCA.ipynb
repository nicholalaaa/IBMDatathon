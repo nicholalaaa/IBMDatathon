{
 "cells": [
  {
   "cell_type": "code",
   "execution_count": 94,
   "id": "872fa972-01de-451c-afac-5c0a888afd47",
   "metadata": {},
   "outputs": [],
   "source": [
    "import numpy as np\n",
    "import matplotlib.pyplot as plt\n",
    "from sklearn import datasets\n",
    "from sklearn.decomposition import PCA\n",
    "import pandas as pd\n",
    "from sklearn.preprocessing import StandardScaler\n",
    "fire_df = pd.read_csv('FW_Veg_Rem_Combined.csv')\n",
    "columns_to_keep = [\"latitude\", \"longitude\", \"Vegetation\", \"Temp_pre_7\", \"Temp_cont\",\n",
    "                   \"Wind_pre_7\", \"Wind_cont\", \"Hum_pre_7\", \"Hum_cont\", \"Prec_pre_7\", \"Prec_cont\", \"fire_mag\"]\n",
    "df_clean = fire_df[columns_to_keep]\n",
    "X_df = df_clean.drop(columns=['fire_mag'])\n",
    "y_df = df_clean['fire_mag']\n",
    "scaler = StandardScaler()\n",
    "scaler.fit(X_df)\n",
    "X_df = scaler.transform(X_df)"
   ]
  },
  {
   "cell_type": "code",
   "execution_count": 104,
   "id": "23a37a3c-3aae-4fc7-8060-e6422d1582e9",
   "metadata": {},
   "outputs": [],
   "source": [
    "pca = PCA()\n",
    "x_new = pca.fit_transform(X_df)"
   ]
  },
  {
   "cell_type": "code",
   "execution_count": 105,
   "id": "1256d53c-3dbd-46ec-8718-262f0059d67e",
   "metadata": {},
   "outputs": [
    {
     "data": {
      "text/plain": [
       "array([0.39105847, 0.15886886, 0.09936106, 0.08728666, 0.07484992,\n",
       "       0.06357698, 0.04979583, 0.0339189 , 0.02639344, 0.00810844,\n",
       "       0.00678145])"
      ]
     },
     "execution_count": 105,
     "metadata": {},
     "output_type": "execute_result"
    }
   ],
   "source": [
    "pca.explained_variance_ratio_\n",
    "#abs(pca.components_)"
   ]
  },
  {
   "cell_type": "code",
   "execution_count": 106,
   "id": "2268be9a-824a-4606-b534-270897a64e98",
   "metadata": {},
   "outputs": [
    {
     "name": "stdout",
     "output_type": "stream",
     "text": [
      "['Wind_cont', 'longitude', 'Prec_pre_7', 'Prec_cont', 'Vegetation', 'Prec_pre_7', 'Temp_pre_7', 'Wind_pre_7', 'longitude', 'Wind_cont', 'Hum_cont']\n",
      "[0.39105847 0.15886886 0.09936106 0.08728666 0.07484992 0.06357698\n",
      " 0.04979583 0.0339189  0.02639344 0.00810844 0.00678145]\n"
     ]
    }
   ],
   "source": [
    "most_important = [columns_to_keep[np.abs(pca.components_[i]).argmax()] for i in range(11)]\n",
    "print(most_important)\n",
    "print(pca.explained_variance_ratio_)"
   ]
  },
  {
   "cell_type": "code",
   "execution_count": 107,
   "id": "78159639-291d-4863-af6f-6c2c6125b983",
   "metadata": {},
   "outputs": [
    {
     "data": {
      "text/html": [
       "<div>\n",
       "<style scoped>\n",
       "    .dataframe tbody tr th:only-of-type {\n",
       "        vertical-align: middle;\n",
       "    }\n",
       "\n",
       "    .dataframe tbody tr th {\n",
       "        vertical-align: top;\n",
       "    }\n",
       "\n",
       "    .dataframe thead th {\n",
       "        text-align: right;\n",
       "    }\n",
       "</style>\n",
       "<table border=\"1\" class=\"dataframe\">\n",
       "  <thead>\n",
       "    <tr style=\"text-align: right;\">\n",
       "      <th></th>\n",
       "      <th>Variable</th>\n",
       "      <th>PC_Eigenvalue</th>\n",
       "    </tr>\n",
       "  </thead>\n",
       "  <tbody>\n",
       "    <tr>\n",
       "      <th>0</th>\n",
       "      <td>Wind_cont</td>\n",
       "      <td>0.391058</td>\n",
       "    </tr>\n",
       "    <tr>\n",
       "      <th>1</th>\n",
       "      <td>longitude</td>\n",
       "      <td>0.158869</td>\n",
       "    </tr>\n",
       "    <tr>\n",
       "      <th>2</th>\n",
       "      <td>Prec_pre_7</td>\n",
       "      <td>0.099361</td>\n",
       "    </tr>\n",
       "    <tr>\n",
       "      <th>3</th>\n",
       "      <td>Prec_cont</td>\n",
       "      <td>0.087287</td>\n",
       "    </tr>\n",
       "    <tr>\n",
       "      <th>4</th>\n",
       "      <td>Vegetation</td>\n",
       "      <td>0.074850</td>\n",
       "    </tr>\n",
       "    <tr>\n",
       "      <th>5</th>\n",
       "      <td>Prec_pre_7</td>\n",
       "      <td>0.063577</td>\n",
       "    </tr>\n",
       "    <tr>\n",
       "      <th>6</th>\n",
       "      <td>Temp_pre_7</td>\n",
       "      <td>0.049796</td>\n",
       "    </tr>\n",
       "    <tr>\n",
       "      <th>7</th>\n",
       "      <td>Wind_pre_7</td>\n",
       "      <td>0.033919</td>\n",
       "    </tr>\n",
       "    <tr>\n",
       "      <th>8</th>\n",
       "      <td>longitude</td>\n",
       "      <td>0.026393</td>\n",
       "    </tr>\n",
       "    <tr>\n",
       "      <th>9</th>\n",
       "      <td>Wind_cont</td>\n",
       "      <td>0.008108</td>\n",
       "    </tr>\n",
       "    <tr>\n",
       "      <th>10</th>\n",
       "      <td>Hum_cont</td>\n",
       "      <td>0.006781</td>\n",
       "    </tr>\n",
       "  </tbody>\n",
       "</table>\n",
       "</div>"
      ],
      "text/plain": [
       "      Variable  PC_Eigenvalue\n",
       "0    Wind_cont       0.391058\n",
       "1    longitude       0.158869\n",
       "2   Prec_pre_7       0.099361\n",
       "3    Prec_cont       0.087287\n",
       "4   Vegetation       0.074850\n",
       "5   Prec_pre_7       0.063577\n",
       "6   Temp_pre_7       0.049796\n",
       "7   Wind_pre_7       0.033919\n",
       "8    longitude       0.026393\n",
       "9    Wind_cont       0.008108\n",
       "10    Hum_cont       0.006781"
      ]
     },
     "execution_count": 107,
     "metadata": {},
     "output_type": "execute_result"
    }
   ],
   "source": [
    "dic = {\n",
    "    'Variable': most_important,\n",
    "    'PC_Eigenvalue': pca.explained_variance_ratio_\n",
    "}\n",
    "df = pd.DataFrame(data=dic)\n",
    "df"
   ]
  },
  {
   "cell_type": "code",
   "execution_count": 108,
   "id": "18532467-3637-4e43-9576-5c947407513e",
   "metadata": {},
   "outputs": [],
   "source": [
    "df = df.groupby('Variable', group_keys=False).sum()"
   ]
  },
  {
   "cell_type": "code",
   "execution_count": 109,
   "id": "583a7385-835b-4af3-95d6-26f8c8f42f7a",
   "metadata": {},
   "outputs": [],
   "source": [
    "df = df['PC_Eigenvalue'].sort_values(ascending=False)"
   ]
  },
  {
   "cell_type": "code",
   "execution_count": 110,
   "id": "48de602c-9541-4059-983b-d2f1f75750e5",
   "metadata": {
    "editable": true,
    "slideshow": {
     "slide_type": ""
    },
    "tags": []
   },
   "outputs": [
    {
     "data": {
      "text/plain": [
       "Variable\n",
       "Wind_cont     0.399167\n",
       "longitude     0.185262\n",
       "Prec_pre_7    0.162938\n",
       "Prec_cont     0.087287\n",
       "Vegetation    0.074850\n",
       "Temp_pre_7    0.049796\n",
       "Wind_pre_7    0.033919\n",
       "Hum_cont      0.006781\n",
       "Name: PC_Eigenvalue, dtype: float64"
      ]
     },
     "execution_count": 110,
     "metadata": {},
     "output_type": "execute_result"
    }
   ],
   "source": [
    "df"
   ]
  },
  {
   "cell_type": "raw",
   "id": "33ec20eb-0a4b-4726-881c-528c44c18deb",
   "metadata": {
    "editable": true,
    "slideshow": {
     "slide_type": ""
    },
    "tags": []
   },
   "source": [
    "Original variables listed in descending order of the sum of the eigenvalues of eigenvectors in which these original variables were the most significant. This gives us an idea of the importance of each variable with regards to predicting the magnitude of a fire."
   ]
  },
  {
   "cell_type": "code",
   "execution_count": null,
   "id": "172e41cd-ee78-455a-a2bf-8645e1a8ba4c",
   "metadata": {},
   "outputs": [],
   "source": []
  }
 ],
 "metadata": {
  "kernelspec": {
   "display_name": "Python 3 (ipykernel)",
   "language": "python",
   "name": "python3"
  },
  "language_info": {
   "codemirror_mode": {
    "name": "ipython",
    "version": 3
   },
   "file_extension": ".py",
   "mimetype": "text/x-python",
   "name": "python",
   "nbconvert_exporter": "python",
   "pygments_lexer": "ipython3",
   "version": "3.10.6"
  }
 },
 "nbformat": 4,
 "nbformat_minor": 5
}
